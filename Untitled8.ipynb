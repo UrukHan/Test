{
  "nbformat": 4,
  "nbformat_minor": 0,
  "metadata": {
    "colab": {
      "name": "Untitled8.ipynb",
      "provenance": [],
      "authorship_tag": "ABX9TyPM66i0Zzz2X4izCYwB9wXE",
      "include_colab_link": true
    },
    "kernelspec": {
      "name": "python3",
      "display_name": "Python 3"
    }
  },
  "cells": [
    {
      "cell_type": "markdown",
      "metadata": {
        "id": "view-in-github",
        "colab_type": "text"
      },
      "source": [
        "<a href=\"https://colab.research.google.com/github/UrukHan/Test/blob/master/Untitled8.ipynb\" target=\"_parent\"><img src=\"https://colab.research.google.com/assets/colab-badge.svg\" alt=\"Open In Colab\"/></a>"
      ]
    },
    {
      "cell_type": "code",
      "metadata": {
        "id": "TcArnkNf6ItG"
      },
      "source": [
        "import numpy as np\n",
        "import matplotlib.pyplot as plt\n",
        "import pandas as pd\n",
        "import seaborn as sns\n",
        "from google.colab import files\n"
      ],
      "execution_count": 434,
      "outputs": []
    },
    {
      "cell_type": "code",
      "metadata": {
        "id": "6mhbmiTu6Wlk"
      },
      "source": [
        "allData = pd.read_excel('/content/OAE.xlsx', index_col=0)"
      ],
      "execution_count": 435,
      "outputs": []
    },
    {
      "cell_type": "code",
      "metadata": {
        "id": "uJ_JT3LhFa74",
        "outputId": "3c52f282-55da-4c2a-83cd-8f8a15a719b5",
        "colab": {
          "base_uri": "https://localhost:8080/",
          "height": 235
        }
      },
      "source": [
        "allData.iloc[:5]"
      ],
      "execution_count": 436,
      "outputs": [
        {
          "output_type": "execute_result",
          "data": {
            "text/html": [
              "<div>\n",
              "<style scoped>\n",
              "    .dataframe tbody tr th:only-of-type {\n",
              "        vertical-align: middle;\n",
              "    }\n",
              "\n",
              "    .dataframe tbody tr th {\n",
              "        vertical-align: top;\n",
              "    }\n",
              "\n",
              "    .dataframe thead th {\n",
              "        text-align: right;\n",
              "    }\n",
              "</style>\n",
              "<table border=\"1\" class=\"dataframe\">\n",
              "  <thead>\n",
              "    <tr style=\"text-align: right;\">\n",
              "      <th></th>\n",
              "      <th>Company</th>\n",
              "      <th>Concurent</th>\n",
              "      <th>Yandex</th>\n",
              "      <th>Google</th>\n",
              "      <th>ComCon</th>\n",
              "      <th>Count</th>\n",
              "    </tr>\n",
              "    <tr>\n",
              "      <th>date</th>\n",
              "      <th></th>\n",
              "      <th></th>\n",
              "      <th></th>\n",
              "      <th></th>\n",
              "      <th></th>\n",
              "      <th></th>\n",
              "    </tr>\n",
              "  </thead>\n",
              "  <tbody>\n",
              "    <tr>\n",
              "      <th>28.01.2019 - 03.02.2019</th>\n",
              "      <td>103197.80</td>\n",
              "      <td>125185.20</td>\n",
              "      <td>42146</td>\n",
              "      <td>50</td>\n",
              "      <td>21987.40</td>\n",
              "      <td>110.0</td>\n",
              "    </tr>\n",
              "    <tr>\n",
              "      <th>04.02.2019 - 10.02.2019</th>\n",
              "      <td>107808.30</td>\n",
              "      <td>111489.70</td>\n",
              "      <td>36013</td>\n",
              "      <td>20</td>\n",
              "      <td>3681.40</td>\n",
              "      <td>91.0</td>\n",
              "    </tr>\n",
              "    <tr>\n",
              "      <th>11.02.2019 - 17.02.2019</th>\n",
              "      <td>92518.58</td>\n",
              "      <td>98027.54</td>\n",
              "      <td>36013</td>\n",
              "      <td>36</td>\n",
              "      <td>5508.96</td>\n",
              "      <td>93.0</td>\n",
              "    </tr>\n",
              "    <tr>\n",
              "      <th>18.02.2019 - 24.02.2019</th>\n",
              "      <td>80068.75</td>\n",
              "      <td>98274.79</td>\n",
              "      <td>36013</td>\n",
              "      <td>40</td>\n",
              "      <td>18206.04</td>\n",
              "      <td>104.0</td>\n",
              "    </tr>\n",
              "    <tr>\n",
              "      <th>25.02.2019 - 03.03.2019</th>\n",
              "      <td>97560.45</td>\n",
              "      <td>128452.00</td>\n",
              "      <td>36013</td>\n",
              "      <td>43</td>\n",
              "      <td>30891.55</td>\n",
              "      <td>117.0</td>\n",
              "    </tr>\n",
              "  </tbody>\n",
              "</table>\n",
              "</div>"
            ],
            "text/plain": [
              "                           Company  Concurent  Yandex  Google    ComCon  Count\n",
              "date                                                                          \n",
              "28.01.2019 - 03.02.2019  103197.80  125185.20   42146      50  21987.40  110.0\n",
              "04.02.2019 - 10.02.2019  107808.30  111489.70   36013      20   3681.40   91.0\n",
              "11.02.2019 - 17.02.2019   92518.58   98027.54   36013      36   5508.96   93.0\n",
              "18.02.2019 - 24.02.2019   80068.75   98274.79   36013      40  18206.04  104.0\n",
              "25.02.2019 - 03.03.2019   97560.45  128452.00   36013      43  30891.55  117.0"
            ]
          },
          "metadata": {
            "tags": []
          },
          "execution_count": 436
        }
      ]
    },
    {
      "cell_type": "code",
      "metadata": {
        "id": "Fm4LV-UyFa5M",
        "outputId": "ac72fb6d-a802-4f75-bc88-d32d9bea3d80",
        "colab": {
          "base_uri": "https://localhost:8080/",
          "height": 595
        }
      },
      "source": [
        "# Просмотр корреляции данных\n",
        "correlation = allData.iloc[:,:25].corr()\n",
        "plt.figure(figsize = (10,10))\n",
        "sns.heatmap(correlation, vmax = 1, square = True, annot = True, cmap = 'Blues')"
      ],
      "execution_count": 437,
      "outputs": [
        {
          "output_type": "execute_result",
          "data": {
            "text/plain": [
              "<matplotlib.axes._subplots.AxesSubplot at 0x7fc54583b2b0>"
            ]
          },
          "metadata": {
            "tags": []
          },
          "execution_count": 437
        },
        {
          "output_type": "display_data",
          "data": {
            "image/png": "[encoded data removed]",
            "text/plain": [
              "<Figure size 720x720 with 2 Axes>"
            ]
          },
          "metadata": {
            "tags": [],
            "needs_background": "light"
          }
        }
      ]
    },
    {
      "cell_type": "code",
      "metadata": {
        "id": "G0AU4Kq1aXGq"
      },
      "source": [
        "#allData.drop(['Google'], axis = 1, inplace = True) "
      ],
      "execution_count": 438,
      "outputs": []
    },
    {
      "cell_type": "code",
      "metadata": {
        "id": "sRcpYz-qHlsk"
      },
      "source": [
        "testData = allData[-10:]\n",
        "trainData = allData[:-10]\n",
        "testDataX = testData.drop(['Count'], axis = 1, inplace = False) \n",
        "trainDataX = trainData.drop(['Count'], axis = 1, inplace = False)\n",
        "trainDataY = trainData['Count']\n",
        "ValidationX = trainDataX[-10:]\n",
        "ValidationY = trainDataY[-10:]\n",
        "trainDataX = trainDataX[:-10]\n",
        "trainDataY = trainDataY[:-10]"
      ],
      "execution_count": 439,
      "outputs": []
    },
    {
      "cell_type": "code",
      "metadata": {
        "id": "GMJjlzw5UH6I",
        "outputId": "6bd551a0-ea07-4ace-ad0d-81b057d531ca",
        "colab": {
          "base_uri": "https://localhost:8080/",
          "height": 52
        }
      },
      "source": [
        "\"\"\"# Среднее значение и стандартное отклонение\n",
        "mean = trainDataX.mean(axis=0)\n",
        "std = trainDataX.std(axis=0)\n",
        "# Нормализация данных\n",
        "trainDataXN = (trainDataX - mean)/std\n",
        "ValidationXN = (ValidationX - mean)/std\n",
        "testDataXN = (testDataX - mean)/std\"\"\""
      ],
      "execution_count": 440,
      "outputs": [
        {
          "output_type": "execute_result",
          "data": {
            "application/vnd.google.colaboratory.intrinsic+json": {
              "type": "string"
            },
            "text/plain": [
              "'# Среднее значение и стандартное отклонение\\nmean = trainDataX.mean(axis=0)\\nstd = trainDataX.std(axis=0)\\n# Нормализация данных\\ntrainDataXN = (trainDataX - mean)/std\\nValidationXN = (ValidationX - mean)/std\\ntestDataXN = (testDataX - mean)/std'"
            ]
          },
          "metadata": {
            "tags": []
          },
          "execution_count": 440
        }
      ]
    },
    {
      "cell_type": "code",
      "metadata": {
        "id": "YicMI_a4HjJA"
      },
      "source": [
        "from sklearn.model_selection import KFold, StratifiedKFold\n",
        "from sklearn.ensemble import RandomForestRegressor\n",
        "from sklearn.linear_model import LinearRegression\n",
        "from sklearn.linear_model import ElasticNetCV"
      ],
      "execution_count": 441,
      "outputs": []
    },
    {
      "cell_type": "code",
      "metadata": {
        "id": "iYWmTwD8Fa2s",
        "outputId": "21d3821e-565c-4801-de18-402c455571b4",
        "colab": {
          "base_uri": "https://localhost:8080/",
          "height": 221
        }
      },
      "source": [
        "# Прогноз LinearRegression на общих данных ненормированных\n",
        "reg = LinearRegression().fit(trainDataX, trainDataY)\n",
        "predL = reg.predict(ValidationX)\n",
        "for i in range(0, 10):\n",
        "    print(\"Предсказанная цена:\", round(predL[i], 2), \", правильная цена:\", round(ValidationY.values[i], 2))\n",
        "# Оценка погрешности\n",
        "difference = predL - ValidationY.values\n",
        "print('\\nСредняя ошибка', sum(abs(difference))/len(difference))"
      ],
      "execution_count": 442,
      "outputs": [
        {
          "output_type": "stream",
          "text": [
            "Предсказанная цена: 104.73 , правильная цена: 101.0\n",
            "Предсказанная цена: 87.02 , правильная цена: 99.0\n",
            "Предсказанная цена: 88.44 , правильная цена: 103.0\n",
            "Предсказанная цена: 117.16 , правильная цена: 109.0\n",
            "Предсказанная цена: 92.52 , правильная цена: 82.0\n",
            "Предсказанная цена: 91.83 , правильная цена: 85.0\n",
            "Предсказанная цена: 89.59 , правильная цена: 88.0\n",
            "Предсказанная цена: 102.75 , правильная цена: 97.0\n",
            "Предсказанная цена: 97.0 , правильная цена: 105.0\n",
            "Предсказанная цена: 112.07 , правильная цена: 125.0\n",
            "\n",
            "Средняя ошибка 8.40722117618532\n"
          ],
          "name": "stdout"
        }
      ]
    },
    {
      "cell_type": "code",
      "metadata": {
        "id": "rq3XhVtLMz3C",
        "outputId": "b83562f8-1d50-4f86-8e46-bd8bcb1844ed",
        "colab": {
          "base_uri": "https://localhost:8080/",
          "height": 483
        }
      },
      "source": [
        "graphData = [predL, ValidationY.values]\n",
        "fig, ax = plt.subplots(figsize=(8,8))\n",
        "sns.lineplot(data=predL, palette=\"tab10\", linewidth=2.5)\n",
        "sns.lineplot(data=ValidationY.values, palette=\"tab10\", linewidth=2.5)\n",
        "ax.legend(['Pred', 'Real'], facecolor='w')\n",
        "plt.show()"
      ],
      "execution_count": 443,
      "outputs": [
        {
          "output_type": "display_data",
          "data": {
            "image/png": "[encoded data removed]",
            "text/plain": [
              "<Figure size 576x576 with 1 Axes>"
            ]
          },
          "metadata": {
            "tags": [],
            "needs_background": "light"
          }
        }
      ]
    },
    {
      "cell_type": "code",
      "metadata": {
        "id": "EHgBONJYMwoJ",
        "outputId": "15462fa0-560c-4462-9f5c-338329091c79",
        "colab": {
          "base_uri": "https://localhost:8080/",
          "height": 51
        }
      },
      "source": [
        "# Прогноз LinearRegression на общих данных ненормированных\n",
        "reg = LinearRegression().fit(trainData.drop(['Count'], axis = 1, inplace = False), trainData['Count'])\n",
        "predL = reg.predict(testData.drop(['Count'], axis = 1, inplace = False))\n",
        "print(predL)"
      ],
      "execution_count": 444,
      "outputs": [
        {
          "output_type": "stream",
          "text": [
            "[ 93.38420088 106.22097808  97.72249615 115.20485283 104.6108593\n",
            "  96.3131247   90.54721093  95.4715977   86.7163657  112.49742946]\n"
          ],
          "name": "stdout"
        }
      ]
    },
    {
      "cell_type": "code",
      "metadata": {
        "id": "E_vtD4FBZZYx"
      },
      "source": [
        ""
      ],
      "execution_count": 444,
      "outputs": []
    },
    {
      "cell_type": "code",
      "metadata": {
        "id": "vxxWmfPgZZeM"
      },
      "source": [
        ""
      ],
      "execution_count": 444,
      "outputs": []
    },
    {
      "cell_type": "code",
      "metadata": {
        "id": "LQ0792MsZZhu"
      },
      "source": [
        ""
      ],
      "execution_count": 444,
      "outputs": []
    },
    {
      "cell_type": "code",
      "metadata": {
        "id": "JBWVL3LJZZbn"
      },
      "source": [
        ""
      ],
      "execution_count": 444,
      "outputs": []
    },
    {
      "cell_type": "code",
      "metadata": {
        "id": "C3CmhnBRZZVy"
      },
      "source": [
        ""
      ],
      "execution_count": 444,
      "outputs": []
    },
    {
      "cell_type": "code",
      "metadata": {
        "id": "demLVQJ7ZZCs"
      },
      "source": [
        ""
      ],
      "execution_count": 444,
      "outputs": []
    },
    {
      "cell_type": "code",
      "metadata": {
        "id": "LHp7DFZGMwh1"
      },
      "source": [
        ""
      ],
      "execution_count": 444,
      "outputs": []
    },
    {
      "cell_type": "code",
      "metadata": {
        "id": "JL_ryyQsMwcp"
      },
      "source": [
        ""
      ],
      "execution_count": 444,
      "outputs": []
    }
  ]
}