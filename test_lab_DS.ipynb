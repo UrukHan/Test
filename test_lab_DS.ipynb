{
  "nbformat": 4,
  "nbformat_minor": 0,
  "metadata": {
    "colab": {
      "name": "test_lab_DS",
      "provenance": [],
      "collapsed_sections": [],
      "toc_visible": true,
      "include_colab_link": true
    },
    "kernelspec": {
      "name": "python3",
      "display_name": "Python 3"
    }
  },
  "cells": [
    {
      "cell_type": "markdown",
      "metadata": {
        "id": "view-in-github",
        "colab_type": "text"
      },
      "source": [
        "<a href=\"https://colab.research.google.com/github/UrukHan/Test/blob/master/test_lab_DS.ipynb\" target=\"_parent\"><img src=\"https://colab.research.google.com/assets/colab-badge.svg\" alt=\"Open In Colab\"/></a>"
      ]
    },
    {
      "cell_type": "markdown",
      "metadata": {
        "id": "0EKGaT1Z3efE",
        "colab_type": "text"
      },
      "source": [
        "# Тестовое задание Лаборатории больших данных\n",
        "\n",
        "Загрузите данные из файла "
      ]
    },
    {
      "cell_type": "code",
      "metadata": {
        "id": "CwMPoOIKgSEJ",
        "colab_type": "code",
        "colab": {
          "resources": {
            "http://localhost:8080/nbextensions/google.colab/files.js": {
              "data": "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",
              "ok": true,
              "headers": [
                [
                  "content-type",
                  "application/javascript"
                ]
              ],
              "status": 200,
              "status_text": ""
            }
          },
          "base_uri": "https://localhost:8080/",
          "height": 89
        },
        "outputId": "90e43066-c383-4618-9e5f-313202c5fb04"
      },
      "source": [
        "from google.colab import files\n",
        "\n",
        "uploaded = files.upload()\n",
        "\n",
        "for fn in uploaded.keys():\n",
        "  print('User uploaded file \"{name}\" with length {length} bytes'.format(\n",
        "      name=fn, length=len(uploaded[fn])))"
      ],
      "execution_count": 1,
      "outputs": [
        {
          "output_type": "display_data",
          "data": {
            "text/html": [
              "\n",
              "     <input type=\"file\" id=\"files-da2ce510-2c57-464d-bfd7-8666b726d1d9\" name=\"files[]\" multiple disabled\n",
              "        style=\"border:none\" />\n",
              "     <output id=\"result-da2ce510-2c57-464d-bfd7-8666b726d1d9\">\n",
              "      Upload widget is only available when the cell has been executed in the\n",
              "      current browser session. Please rerun this cell to enable.\n",
              "      </output>\n",
              "      <script src=\"/nbextensions/google.colab/files.js\"></script> "
            ],
            "text/plain": [
              "<IPython.core.display.HTML object>"
            ]
          },
          "metadata": {
            "tags": []
          }
        },
        {
          "output_type": "stream",
          "text": [
            "Saving test_set_stockouts.csv to test_set_stockouts.csv\n",
            "User uploaded file \"test_set_stockouts.csv\" with length 1266581 bytes\n"
          ],
          "name": "stdout"
        }
      ]
    },
    {
      "cell_type": "markdown",
      "metadata": {
        "id": "u1_1kDVW3rQt",
        "colab_type": "text"
      },
      "source": [
        "В файле содержится таблица данных. Это временные ряды продаж и остатков нескольких видов продукции.\n",
        "\n",
        "- ID - идентификатор продукта\n",
        "- dDate - дата записи\n",
        "- sales - объем продаж за дату\n",
        "- rests  - остатки на складе на конец дня\n",
        "\n",
        "Задание\n",
        "1. Выявить участки, на которых остатки меньше 100 штук (стокауты)\n",
        "2. Вывести графики для 5-10 товаров и выделить цветом эти участки\n",
        "3. * Найти даты поступления новой партии товара и проверить гипотезу о том, что \"продажи после поступления компенсируют период стокаута\".\n"
      ]
    },
    {
      "cell_type": "code",
      "metadata": {
        "id": "bwH89-AF_oX3",
        "colab_type": "code",
        "colab": {}
      },
      "source": [
        "import pandas as pd"
      ],
      "execution_count": 2,
      "outputs": []
    },
    {
      "cell_type": "code",
      "metadata": {
        "id": "qU-qaUV6DsKl",
        "colab_type": "code",
        "colab": {
          "base_uri": "https://localhost:8080/",
          "height": 142
        },
        "outputId": "4ab4ec22-07f6-40fd-e673-a7bd6a271749"
      },
      "source": [
        "allData = pd.read_csv('/content/test_set_stockouts.csv')\n",
        "allData.iloc[:3]"
      ],
      "execution_count": 91,
      "outputs": [
        {
          "output_type": "execute_result",
          "data": {
            "text/html": [
              "<div>\n",
              "<style scoped>\n",
              "    .dataframe tbody tr th:only-of-type {\n",
              "        vertical-align: middle;\n",
              "    }\n",
              "\n",
              "    .dataframe tbody tr th {\n",
              "        vertical-align: top;\n",
              "    }\n",
              "\n",
              "    .dataframe thead th {\n",
              "        text-align: right;\n",
              "    }\n",
              "</style>\n",
              "<table border=\"1\" class=\"dataframe\">\n",
              "  <thead>\n",
              "    <tr style=\"text-align: right;\">\n",
              "      <th></th>\n",
              "      <th>Unnamed: 0</th>\n",
              "      <th>SAP_Code</th>\n",
              "      <th>dDate</th>\n",
              "      <th>rests</th>\n",
              "      <th>id_</th>\n",
              "    </tr>\n",
              "  </thead>\n",
              "  <tbody>\n",
              "    <tr>\n",
              "      <th>0</th>\n",
              "      <td>277579</td>\n",
              "      <td>ITD000000000164431</td>\n",
              "      <td>2017-12-29</td>\n",
              "      <td>3.0</td>\n",
              "      <td>881</td>\n",
              "    </tr>\n",
              "    <tr>\n",
              "      <th>1</th>\n",
              "      <td>277580</td>\n",
              "      <td>ITD000000000164431</td>\n",
              "      <td>2018-01-22</td>\n",
              "      <td>3.0</td>\n",
              "      <td>881</td>\n",
              "    </tr>\n",
              "    <tr>\n",
              "      <th>2</th>\n",
              "      <td>277581</td>\n",
              "      <td>ITD000000000164431</td>\n",
              "      <td>2018-11-06</td>\n",
              "      <td>NaN</td>\n",
              "      <td>881</td>\n",
              "    </tr>\n",
              "  </tbody>\n",
              "</table>\n",
              "</div>"
            ],
            "text/plain": [
              "   Unnamed: 0            SAP_Code       dDate  rests  id_\n",
              "0      277579  ITD000000000164431  2017-12-29    3.0  881\n",
              "1      277580  ITD000000000164431  2018-01-22    3.0  881\n",
              "2      277581  ITD000000000164431  2018-11-06    NaN  881"
            ]
          },
          "metadata": {
            "tags": []
          },
          "execution_count": 91
        }
      ]
    },
    {
      "cell_type": "code",
      "metadata": {
        "id": "9_k0NfGUC-nE",
        "colab_type": "code",
        "colab": {}
      },
      "source": [
        "allData['dDate'] = pd.to_datetime(allData['dDate'])\n",
        "allData['dDate'] = allData['dDate'].dt.strftime('%Y,%m,%d')\n",
        "allData['rests'] = allData['rests'].fillna(0.0)\n",
        "#type(allData['dDate'][1])"
      ],
      "execution_count": 157,
      "outputs": []
    },
    {
      "cell_type": "code",
      "metadata": {
        "id": "umWzOVIt_QTK",
        "colab_type": "code",
        "colab": {
          "base_uri": "https://localhost:8080/",
          "height": 204
        },
        "outputId": "fd294775-f28c-4ba8-cba5-ae0b925cd0eb"
      },
      "source": [
        "remains = allData.sort_values(['id_', 'dDate'], ascending = [True, True])\n",
        "remains.iloc[:5]"
      ],
      "execution_count": 158,
      "outputs": [
        {
          "output_type": "execute_result",
          "data": {
            "text/html": [
              "<div>\n",
              "<style scoped>\n",
              "    .dataframe tbody tr th:only-of-type {\n",
              "        vertical-align: middle;\n",
              "    }\n",
              "\n",
              "    .dataframe tbody tr th {\n",
              "        vertical-align: top;\n",
              "    }\n",
              "\n",
              "    .dataframe thead th {\n",
              "        text-align: right;\n",
              "    }\n",
              "</style>\n",
              "<table border=\"1\" class=\"dataframe\">\n",
              "  <thead>\n",
              "    <tr style=\"text-align: right;\">\n",
              "      <th></th>\n",
              "      <th>Unnamed: 0</th>\n",
              "      <th>SAP_Code</th>\n",
              "      <th>dDate</th>\n",
              "      <th>rests</th>\n",
              "      <th>id_</th>\n",
              "    </tr>\n",
              "  </thead>\n",
              "  <tbody>\n",
              "    <tr>\n",
              "      <th>0</th>\n",
              "      <td>277579</td>\n",
              "      <td>ITD000000000164431</td>\n",
              "      <td>2017,12,29</td>\n",
              "      <td>3.0</td>\n",
              "      <td>881</td>\n",
              "    </tr>\n",
              "    <tr>\n",
              "      <th>1</th>\n",
              "      <td>277580</td>\n",
              "      <td>ITD000000000164431</td>\n",
              "      <td>2018,01,22</td>\n",
              "      <td>3.0</td>\n",
              "      <td>881</td>\n",
              "    </tr>\n",
              "    <tr>\n",
              "      <th>2</th>\n",
              "      <td>277581</td>\n",
              "      <td>ITD000000000164431</td>\n",
              "      <td>2018,11,06</td>\n",
              "      <td>0.0</td>\n",
              "      <td>881</td>\n",
              "    </tr>\n",
              "    <tr>\n",
              "      <th>3</th>\n",
              "      <td>368893</td>\n",
              "      <td>ITD000000000201818</td>\n",
              "      <td>2017,09,01</td>\n",
              "      <td>84.0</td>\n",
              "      <td>1391</td>\n",
              "    </tr>\n",
              "    <tr>\n",
              "      <th>4</th>\n",
              "      <td>368894</td>\n",
              "      <td>ITD000000000201818</td>\n",
              "      <td>2017,09,03</td>\n",
              "      <td>84.0</td>\n",
              "      <td>1391</td>\n",
              "    </tr>\n",
              "  </tbody>\n",
              "</table>\n",
              "</div>"
            ],
            "text/plain": [
              "   Unnamed: 0            SAP_Code       dDate  rests   id_\n",
              "0      277579  ITD000000000164431  2017,12,29    3.0   881\n",
              "1      277580  ITD000000000164431  2018,01,22    3.0   881\n",
              "2      277581  ITD000000000164431  2018,11,06    0.0   881\n",
              "3      368893  ITD000000000201818  2017,09,01   84.0  1391\n",
              "4      368894  ITD000000000201818  2017,09,03   84.0  1391"
            ]
          },
          "metadata": {
            "tags": []
          },
          "execution_count": 158
        }
      ]
    },
    {
      "cell_type": "code",
      "metadata": {
        "id": "2t5wsPcyNM-8",
        "colab_type": "code",
        "colab": {
          "base_uri": "https://localhost:8080/",
          "height": 34
        },
        "outputId": "c3b73f5d-7c97-41f2-caef-1749390bc3f6"
      },
      "source": [
        "len(remains[\"id_\"].unique())"
      ],
      "execution_count": 159,
      "outputs": [
        {
          "output_type": "execute_result",
          "data": {
            "text/plain": [
              "100"
            ]
          },
          "metadata": {
            "tags": []
          },
          "execution_count": 159
        }
      ]
    },
    {
      "cell_type": "code",
      "metadata": {
        "id": "lVmdt3qFNNe-",
        "colab_type": "code",
        "colab": {
          "base_uri": "https://localhost:8080/",
          "height": 146
        },
        "outputId": "d10922d4-f198-4ce1-c39a-9b4f02458a3c"
      },
      "source": [
        "idList = remains.groupby('id_').count().iloc[:,:1].T\n",
        "idList"
      ],
      "execution_count": 160,
      "outputs": [
        {
          "output_type": "execute_result",
          "data": {
            "text/html": [
              "<div>\n",
              "<style scoped>\n",
              "    .dataframe tbody tr th:only-of-type {\n",
              "        vertical-align: middle;\n",
              "    }\n",
              "\n",
              "    .dataframe tbody tr th {\n",
              "        vertical-align: top;\n",
              "    }\n",
              "\n",
              "    .dataframe thead th {\n",
              "        text-align: right;\n",
              "    }\n",
              "</style>\n",
              "<table border=\"1\" class=\"dataframe\">\n",
              "  <thead>\n",
              "    <tr style=\"text-align: right;\">\n",
              "      <th>id_</th>\n",
              "      <th>881</th>\n",
              "      <th>1391</th>\n",
              "      <th>1394</th>\n",
              "      <th>1427</th>\n",
              "      <th>1781</th>\n",
              "      <th>2211</th>\n",
              "      <th>2496</th>\n",
              "      <th>2826</th>\n",
              "      <th>3146</th>\n",
              "      <th>3678</th>\n",
              "      <th>4373</th>\n",
              "      <th>4543</th>\n",
              "      <th>4696</th>\n",
              "      <th>4741</th>\n",
              "      <th>4804</th>\n",
              "      <th>5126</th>\n",
              "      <th>5238</th>\n",
              "      <th>5506</th>\n",
              "      <th>5716</th>\n",
              "      <th>5864</th>\n",
              "      <th>6118</th>\n",
              "      <th>6159</th>\n",
              "      <th>6520</th>\n",
              "      <th>6555</th>\n",
              "      <th>6865</th>\n",
              "      <th>7534</th>\n",
              "      <th>7966</th>\n",
              "      <th>8093</th>\n",
              "      <th>8293</th>\n",
              "      <th>8570</th>\n",
              "      <th>8707</th>\n",
              "      <th>8891</th>\n",
              "      <th>9730</th>\n",
              "      <th>11330</th>\n",
              "      <th>11410</th>\n",
              "      <th>11582</th>\n",
              "      <th>11785</th>\n",
              "      <th>11837</th>\n",
              "      <th>12131</th>\n",
              "      <th>12213</th>\n",
              "      <th>...</th>\n",
              "      <th>18377</th>\n",
              "      <th>18596</th>\n",
              "      <th>18613</th>\n",
              "      <th>18676</th>\n",
              "      <th>18736</th>\n",
              "      <th>19261</th>\n",
              "      <th>19326</th>\n",
              "      <th>19548</th>\n",
              "      <th>19814</th>\n",
              "      <th>20537</th>\n",
              "      <th>20764</th>\n",
              "      <th>20889</th>\n",
              "      <th>20908</th>\n",
              "      <th>20970</th>\n",
              "      <th>21683</th>\n",
              "      <th>22148</th>\n",
              "      <th>23268</th>\n",
              "      <th>23657</th>\n",
              "      <th>24278</th>\n",
              "      <th>24351</th>\n",
              "      <th>24582</th>\n",
              "      <th>24979</th>\n",
              "      <th>25000</th>\n",
              "      <th>25695</th>\n",
              "      <th>26336</th>\n",
              "      <th>26490</th>\n",
              "      <th>26763</th>\n",
              "      <th>26927</th>\n",
              "      <th>27759</th>\n",
              "      <th>27912</th>\n",
              "      <th>28058</th>\n",
              "      <th>28261</th>\n",
              "      <th>28895</th>\n",
              "      <th>29476</th>\n",
              "      <th>29621</th>\n",
              "      <th>29970</th>\n",
              "      <th>30022</th>\n",
              "      <th>30057</th>\n",
              "      <th>30104</th>\n",
              "      <th>30193</th>\n",
              "    </tr>\n",
              "  </thead>\n",
              "  <tbody>\n",
              "    <tr>\n",
              "      <th>Unnamed: 0</th>\n",
              "      <td>3</td>\n",
              "      <td>590</td>\n",
              "      <td>666</td>\n",
              "      <td>11</td>\n",
              "      <td>85</td>\n",
              "      <td>613</td>\n",
              "      <td>3</td>\n",
              "      <td>814</td>\n",
              "      <td>75</td>\n",
              "      <td>19</td>\n",
              "      <td>53</td>\n",
              "      <td>71</td>\n",
              "      <td>89</td>\n",
              "      <td>58</td>\n",
              "      <td>10</td>\n",
              "      <td>300</td>\n",
              "      <td>208</td>\n",
              "      <td>152</td>\n",
              "      <td>63</td>\n",
              "      <td>173</td>\n",
              "      <td>694</td>\n",
              "      <td>51</td>\n",
              "      <td>287</td>\n",
              "      <td>395</td>\n",
              "      <td>218</td>\n",
              "      <td>115</td>\n",
              "      <td>264</td>\n",
              "      <td>391</td>\n",
              "      <td>794</td>\n",
              "      <td>247</td>\n",
              "      <td>20</td>\n",
              "      <td>121</td>\n",
              "      <td>3</td>\n",
              "      <td>168</td>\n",
              "      <td>47</td>\n",
              "      <td>25</td>\n",
              "      <td>288</td>\n",
              "      <td>92</td>\n",
              "      <td>127</td>\n",
              "      <td>216</td>\n",
              "      <td>...</td>\n",
              "      <td>478</td>\n",
              "      <td>326</td>\n",
              "      <td>142</td>\n",
              "      <td>403</td>\n",
              "      <td>385</td>\n",
              "      <td>356</td>\n",
              "      <td>86</td>\n",
              "      <td>127</td>\n",
              "      <td>605</td>\n",
              "      <td>220</td>\n",
              "      <td>571</td>\n",
              "      <td>428</td>\n",
              "      <td>249</td>\n",
              "      <td>117</td>\n",
              "      <td>647</td>\n",
              "      <td>74</td>\n",
              "      <td>424</td>\n",
              "      <td>372</td>\n",
              "      <td>277</td>\n",
              "      <td>277</td>\n",
              "      <td>304</td>\n",
              "      <td>85</td>\n",
              "      <td>203</td>\n",
              "      <td>254</td>\n",
              "      <td>294</td>\n",
              "      <td>51</td>\n",
              "      <td>130</td>\n",
              "      <td>218</td>\n",
              "      <td>303</td>\n",
              "      <td>363</td>\n",
              "      <td>292</td>\n",
              "      <td>122</td>\n",
              "      <td>203</td>\n",
              "      <td>52</td>\n",
              "      <td>275</td>\n",
              "      <td>216</td>\n",
              "      <td>116</td>\n",
              "      <td>158</td>\n",
              "      <td>181</td>\n",
              "      <td>139</td>\n",
              "    </tr>\n",
              "  </tbody>\n",
              "</table>\n",
              "<p>1 rows × 100 columns</p>\n",
              "</div>"
            ],
            "text/plain": [
              "id_         881    1391   1394   1427   ...  30022  30057  30104  30193\n",
              "Unnamed: 0      3    590    666     11  ...    116    158    181    139\n",
              "\n",
              "[1 rows x 100 columns]"
            ]
          },
          "metadata": {
            "tags": []
          },
          "execution_count": 160
        }
      ]
    },
    {
      "cell_type": "code",
      "metadata": {
        "id": "8oHHjfruT8ya",
        "colab_type": "code",
        "colab": {
          "base_uri": "https://localhost:8080/",
          "height": 153
        },
        "outputId": "173e5bbb-4e8a-4e7d-8170-adb90ba6e1dc"
      },
      "source": [
        "valuesCount = idList.values[0]\n",
        "valuesCount"
      ],
      "execution_count": 161,
      "outputs": [
        {
          "output_type": "execute_result",
          "data": {
            "text/plain": [
              "array([  3, 590, 666,  11,  85, 613,   3, 814,  75,  19,  53,  71,  89,\n",
              "        58,  10, 300, 208, 152,  63, 173, 694,  51, 287, 395, 218, 115,\n",
              "       264, 391, 794, 247,  20, 121,   3, 168,  47,  25, 288,  92, 127,\n",
              "       216,  48,  11, 115, 826,  79, 394, 337,  51,  91, 346, 192,  75,\n",
              "       418, 670, 332, 164, 454, 351, 744, 511, 478, 326, 142, 403, 385,\n",
              "       356,  86, 127, 605, 220, 571, 428, 249, 117, 647,  74, 424, 372,\n",
              "       277, 277, 304,  85, 203, 254, 294,  51, 130, 218, 303, 363, 292,\n",
              "       122, 203,  52, 275, 216, 116, 158, 181, 139])"
            ]
          },
          "metadata": {
            "tags": []
          },
          "execution_count": 161
        }
      ]
    },
    {
      "cell_type": "code",
      "metadata": {
        "id": "M-EZmiC2XmSV",
        "colab_type": "code",
        "colab": {
          "base_uri": "https://localhost:8080/",
          "height": 669
        },
        "outputId": "b4a5c584-4ff0-4129-9fbc-ab41d1c0b445"
      },
      "source": [
        "allData.loc[(remains['id_'] ==  1391)].iloc[100:120]"
      ],
      "execution_count": 168,
      "outputs": [
        {
          "output_type": "execute_result",
          "data": {
            "text/html": [
              "<div>\n",
              "<style scoped>\n",
              "    .dataframe tbody tr th:only-of-type {\n",
              "        vertical-align: middle;\n",
              "    }\n",
              "\n",
              "    .dataframe tbody tr th {\n",
              "        vertical-align: top;\n",
              "    }\n",
              "\n",
              "    .dataframe thead th {\n",
              "        text-align: right;\n",
              "    }\n",
              "</style>\n",
              "<table border=\"1\" class=\"dataframe\">\n",
              "  <thead>\n",
              "    <tr style=\"text-align: right;\">\n",
              "      <th></th>\n",
              "      <th>Unnamed: 0</th>\n",
              "      <th>SAP_Code</th>\n",
              "      <th>dDate</th>\n",
              "      <th>rests</th>\n",
              "      <th>id_</th>\n",
              "    </tr>\n",
              "  </thead>\n",
              "  <tbody>\n",
              "    <tr>\n",
              "      <th>103</th>\n",
              "      <td>368993</td>\n",
              "      <td>ITD000000000201818</td>\n",
              "      <td>2018,02,25</td>\n",
              "      <td>8.0</td>\n",
              "      <td>1391</td>\n",
              "    </tr>\n",
              "    <tr>\n",
              "      <th>104</th>\n",
              "      <td>368994</td>\n",
              "      <td>ITD000000000201818</td>\n",
              "      <td>2018,02,26</td>\n",
              "      <td>8.0</td>\n",
              "      <td>1391</td>\n",
              "    </tr>\n",
              "    <tr>\n",
              "      <th>105</th>\n",
              "      <td>368995</td>\n",
              "      <td>ITD000000000201818</td>\n",
              "      <td>2018,02,28</td>\n",
              "      <td>8.0</td>\n",
              "      <td>1391</td>\n",
              "    </tr>\n",
              "    <tr>\n",
              "      <th>106</th>\n",
              "      <td>368996</td>\n",
              "      <td>ITD000000000201818</td>\n",
              "      <td>2018,03,01</td>\n",
              "      <td>8.0</td>\n",
              "      <td>1391</td>\n",
              "    </tr>\n",
              "    <tr>\n",
              "      <th>107</th>\n",
              "      <td>368997</td>\n",
              "      <td>ITD000000000201818</td>\n",
              "      <td>2018,03,02</td>\n",
              "      <td>8.0</td>\n",
              "      <td>1391</td>\n",
              "    </tr>\n",
              "    <tr>\n",
              "      <th>108</th>\n",
              "      <td>368998</td>\n",
              "      <td>ITD000000000201818</td>\n",
              "      <td>2018,03,05</td>\n",
              "      <td>219.0</td>\n",
              "      <td>1391</td>\n",
              "    </tr>\n",
              "    <tr>\n",
              "      <th>109</th>\n",
              "      <td>368999</td>\n",
              "      <td>ITD000000000201818</td>\n",
              "      <td>2018,03,10</td>\n",
              "      <td>0.0</td>\n",
              "      <td>1391</td>\n",
              "    </tr>\n",
              "    <tr>\n",
              "      <th>110</th>\n",
              "      <td>369000</td>\n",
              "      <td>ITD000000000201818</td>\n",
              "      <td>2018,03,12</td>\n",
              "      <td>0.0</td>\n",
              "      <td>1391</td>\n",
              "    </tr>\n",
              "    <tr>\n",
              "      <th>111</th>\n",
              "      <td>369001</td>\n",
              "      <td>ITD000000000201818</td>\n",
              "      <td>2018,03,14</td>\n",
              "      <td>215.0</td>\n",
              "      <td>1391</td>\n",
              "    </tr>\n",
              "    <tr>\n",
              "      <th>112</th>\n",
              "      <td>369002</td>\n",
              "      <td>ITD000000000201818</td>\n",
              "      <td>2018,03,15</td>\n",
              "      <td>214.0</td>\n",
              "      <td>1391</td>\n",
              "    </tr>\n",
              "    <tr>\n",
              "      <th>113</th>\n",
              "      <td>369003</td>\n",
              "      <td>ITD000000000201818</td>\n",
              "      <td>2018,03,16</td>\n",
              "      <td>213.0</td>\n",
              "      <td>1391</td>\n",
              "    </tr>\n",
              "    <tr>\n",
              "      <th>114</th>\n",
              "      <td>369004</td>\n",
              "      <td>ITD000000000201818</td>\n",
              "      <td>2018,03,20</td>\n",
              "      <td>212.0</td>\n",
              "      <td>1391</td>\n",
              "    </tr>\n",
              "    <tr>\n",
              "      <th>115</th>\n",
              "      <td>369005</td>\n",
              "      <td>ITD000000000201818</td>\n",
              "      <td>2018,03,21</td>\n",
              "      <td>212.0</td>\n",
              "      <td>1391</td>\n",
              "    </tr>\n",
              "    <tr>\n",
              "      <th>116</th>\n",
              "      <td>369006</td>\n",
              "      <td>ITD000000000201818</td>\n",
              "      <td>2018,03,22</td>\n",
              "      <td>211.0</td>\n",
              "      <td>1391</td>\n",
              "    </tr>\n",
              "    <tr>\n",
              "      <th>117</th>\n",
              "      <td>369007</td>\n",
              "      <td>ITD000000000201818</td>\n",
              "      <td>2018,03,23</td>\n",
              "      <td>211.0</td>\n",
              "      <td>1391</td>\n",
              "    </tr>\n",
              "    <tr>\n",
              "      <th>118</th>\n",
              "      <td>369008</td>\n",
              "      <td>ITD000000000201818</td>\n",
              "      <td>2018,03,26</td>\n",
              "      <td>211.0</td>\n",
              "      <td>1391</td>\n",
              "    </tr>\n",
              "    <tr>\n",
              "      <th>119</th>\n",
              "      <td>369009</td>\n",
              "      <td>ITD000000000201818</td>\n",
              "      <td>2018,03,27</td>\n",
              "      <td>209.0</td>\n",
              "      <td>1391</td>\n",
              "    </tr>\n",
              "    <tr>\n",
              "      <th>120</th>\n",
              "      <td>369010</td>\n",
              "      <td>ITD000000000201818</td>\n",
              "      <td>2018,03,28</td>\n",
              "      <td>209.0</td>\n",
              "      <td>1391</td>\n",
              "    </tr>\n",
              "    <tr>\n",
              "      <th>121</th>\n",
              "      <td>369011</td>\n",
              "      <td>ITD000000000201818</td>\n",
              "      <td>2018,03,29</td>\n",
              "      <td>209.0</td>\n",
              "      <td>1391</td>\n",
              "    </tr>\n",
              "    <tr>\n",
              "      <th>122</th>\n",
              "      <td>369012</td>\n",
              "      <td>ITD000000000201818</td>\n",
              "      <td>2018,03,31</td>\n",
              "      <td>209.0</td>\n",
              "      <td>1391</td>\n",
              "    </tr>\n",
              "  </tbody>\n",
              "</table>\n",
              "</div>"
            ],
            "text/plain": [
              "     Unnamed: 0            SAP_Code       dDate  rests   id_\n",
              "103      368993  ITD000000000201818  2018,02,25    8.0  1391\n",
              "104      368994  ITD000000000201818  2018,02,26    8.0  1391\n",
              "105      368995  ITD000000000201818  2018,02,28    8.0  1391\n",
              "106      368996  ITD000000000201818  2018,03,01    8.0  1391\n",
              "107      368997  ITD000000000201818  2018,03,02    8.0  1391\n",
              "108      368998  ITD000000000201818  2018,03,05  219.0  1391\n",
              "109      368999  ITD000000000201818  2018,03,10    0.0  1391\n",
              "110      369000  ITD000000000201818  2018,03,12    0.0  1391\n",
              "111      369001  ITD000000000201818  2018,03,14  215.0  1391\n",
              "112      369002  ITD000000000201818  2018,03,15  214.0  1391\n",
              "113      369003  ITD000000000201818  2018,03,16  213.0  1391\n",
              "114      369004  ITD000000000201818  2018,03,20  212.0  1391\n",
              "115      369005  ITD000000000201818  2018,03,21  212.0  1391\n",
              "116      369006  ITD000000000201818  2018,03,22  211.0  1391\n",
              "117      369007  ITD000000000201818  2018,03,23  211.0  1391\n",
              "118      369008  ITD000000000201818  2018,03,26  211.0  1391\n",
              "119      369009  ITD000000000201818  2018,03,27  209.0  1391\n",
              "120      369010  ITD000000000201818  2018,03,28  209.0  1391\n",
              "121      369011  ITD000000000201818  2018,03,29  209.0  1391\n",
              "122      369012  ITD000000000201818  2018,03,31  209.0  1391"
            ]
          },
          "metadata": {
            "tags": []
          },
          "execution_count": 168
        }
      ]
    },
    {
      "cell_type": "code",
      "metadata": {
        "id": "JESNDR-NNNiF",
        "colab_type": "code",
        "colab": {
          "base_uri": "https://localhost:8080/",
          "height": 1000
        },
        "outputId": "498f3b6d-d569-4473-b058-68e7717019d5"
      },
      "source": [
        "for i in idList:\n",
        "  print(i, end = \": \")\n",
        "  data = allData.loc[(remains['id_'] ==  i)]\n",
        "  ind = False\n",
        "  for j in range(idList[i][0]):\n",
        "    if j == idList[i][0]-1 and data['rests'].values[j] < 100 and ind == True:\n",
        "      print(' -', data['dDate'].values[j],)\n",
        "    elif j == idList[i][0]-1 and data['rests'].values[j] < 100:\n",
        "      print(data['dDate'].values[j])\n",
        "    elif data['rests'].values[j] < 100 and ind == False:\n",
        "      print(data['dDate'].values[j], end = '')\n",
        "      ind = True\n",
        "    elif data['rests'].values[j] < 100:\n",
        "      pass\n",
        "    elif ind == True:\n",
        "      print(' -', data['dDate'].values[j-1], end = '     ')\n",
        "      ind = False\n",
        "    else:\n",
        "      pass\n",
        "  print()"
      ],
      "execution_count": 169,
      "outputs": [
        {
          "output_type": "stream",
          "text": [
            "881: 2017,12,29 - 2018,11,06\n",
            "\n",
            "1391: 2017,09,01 - 2018,03,02     2018,03,10 - 2018,03,12     2018,09,13 - 2018,09,13     2018,11,09 - 2019,09,04     \n",
            "1394: 2017,09,21 - 2017,09,21     2017,09,24 - 2017,09,24     2018,03,06 - 2018,03,13     2018,04,25 - 2018,08,07     2018,09,13 - 2018,09,13     2019,02,06 - 2019,11,12     \n",
            "1427: 2017,12,14 - 2020,07,30\n",
            "\n",
            "1781: 2017,09,20 - 2019,07,09\n",
            "\n",
            "2211: 2017,09,01 - 2018,04,19     2018,08,10 - 2019,04,02     2019,05,21 - 2019,05,21     2019,08,09 - 2020,04,06     \n",
            "2496: 2017,11,24 - 2020,07,30\n",
            "\n",
            "2826: 2017,09,01 - 2017,10,16     2018,03,06 - 2018,03,06     2018,03,12 - 2018,03,13     2018,07,22 - 2018,07,22     2018,09,13 - 2018,09,13     2019,03,28 - 2019,03,28     2019,04,05 - 2019,04,12     2019,05,21 - 2019,05,21     2019,10,10 - 2019,10,10     2019,12,11 - 2020,09,03\n",
            "\n",
            "3146: 2017,09,03 - 2020,07,20\n",
            "\n",
            "3678: 2017,09,11 - 2019,05,29\n",
            "\n",
            "4373: 2017,09,06 - 2020,07,29\n",
            "\n",
            "4543: 2017,09,04 - 2020,07,30\n",
            "\n",
            "4696: 2018,03,07 - 2019,02,28\n",
            "\n",
            "4741: 2017,09,06 - 2020,08,16\n",
            "\n",
            "4804: 2017,11,07 - 2019,07,31\n",
            "\n",
            "5126: 2018,03,06 - 2018,03,12     2019,03,28 - 2019,03,28     2019,05,21 - 2019,05,21     2019,10,14 - 2019,10,18     \n",
            "5238: 2018,03,14 - 2018,03,31     2018,07,22 - 2018,07,22     2018,09,13 - 2018,09,13     2018,11,07 - 2020,07,22\n",
            "\n",
            "5506: 2018,03,06 - 2018,03,12     2018,04,06 - 2020,06,30\n",
            "\n",
            "5716: 2017,09,06 - 2020,07,14\n",
            "\n",
            "5864: 2018,03,06 - 2018,03,13     2018,03,20 - 2020,06,30\n",
            "\n",
            "6118: 2017,09,01 - 2017,10,31     2018,03,06 - 2018,03,06     2018,03,09 - 2018,03,13     2018,03,28 - 2019,01,21     2019,05,21 - 2019,05,21     2019,07,17 - 2019,11,04     \n",
            "6159: 2017,12,19 - 2020,07,09\n",
            "\n",
            "6520: 2017,09,21 - 2017,09,21     2018,03,06 - 2020,08,11\n",
            "\n",
            "6555: 2017,09,29 - 2017,09,29     2018,03,06 - 2018,03,13     2018,07,22 - 2018,07,22     2018,09,13 - 2018,09,13     2019,03,28 - 2019,03,28     2019,04,01 - 2020,07,29\n",
            "\n",
            "6865: 2017,09,21 - 2017,09,21     2018,03,06 - 2018,03,13     2020,01,15 - 2020,09,03\n",
            "\n",
            "7534: 2017,09,04 - 2020,08,24\n",
            "\n",
            "7966: 2017,09,05 - 2020,09,03\n",
            "\n",
            "8093: 2017,09,24 - 2017,09,24     2018,03,06 - 2018,03,06     2018,03,12 - 2018,03,13     2018,09,13 - 2018,09,13     \n",
            "8293: 2017,09,21 - 2017,09,21     2017,09,24 - 2017,09,24     2018,02,22 - 2018,02,23     2018,03,05 - 2018,04,01     2018,09,13 - 2018,09,13     2019,03,28 - 2019,03,28     2019,05,21 - 2019,05,21     2020,02,12 - 2020,04,10     \n",
            "8570: 2017,09,03 - 2020,07,29\n",
            "\n",
            "8707: 2017,09,26 - 2019,01,25\n",
            "\n",
            "8891: 2017,09,21 - 2017,09,21     2017,09,24 - 2017,09,24     2017,10,11 - 2020,07,20\n",
            "\n",
            "9730: 2017,09,29 - 2018,10,17\n",
            "\n",
            "11330: 2017,09,30 - 2020,09,01\n",
            "\n",
            "11410: 2017,09,05 - 2020,07,20\n",
            "\n",
            "11582: 2017,09,08 - 2019,04,24\n",
            "\n",
            "11785: 2018,03,06 - 2018,03,10     2019,05,21 - 2019,05,21     \n",
            "11837: 2017,09,05 - 2019,04,09\n",
            "\n",
            "12131: 2017,09,27 - 2020,06,02\n",
            "\n",
            "12213: 2017,09,15 - 2020,09,03\n",
            "\n",
            "12320: 2017,09,14 - 2020,06,30\n",
            "\n",
            "12616: 2018,03,13 - 2019,11,13\n",
            "\n",
            "12701: 2017,11,17 - 2020,05,27\n",
            "\n",
            "12802: 2017,09,21 - 2017,09,21     2017,12,13 - 2018,03,04     2018,03,06 - 2018,03,06     2018,03,08 - 2018,03,13     2018,06,27 - 2018,08,17     2018,09,13 - 2018,09,13     2019,02,24 - 2019,03,27     2019,05,21 - 2019,05,21     2019,10,14 - 2019,11,15     2020,08,13 - 2020,09,07\n",
            "\n",
            "13363: 2018,03,07 - 2020,07,29\n",
            "\n",
            "14097: 2018,03,06 - 2020,09,03\n",
            "\n",
            "14334: 2017,10,03 - 2017,10,03     2018,03,06 - 2018,03,13     2019,05,21 - 2019,05,21     2019,07,09 - 2020,07,31\n",
            "\n",
            "14508: 2017,09,06 - 2020,02,25\n",
            "\n",
            "14509: 2017,09,10 - 2020,06,30\n",
            "\n",
            "14857: 2017,09,21 - 2017,09,21     2017,09,24 - 2017,09,24     2018,07,16 - 2018,09,05     2018,11,27 - 2020,07,29\n",
            "\n",
            "15290: 2018,03,06 - 2018,03,06     2018,03,13 - 2018,03,13     2019,03,28 - 2019,03,28     \n",
            "15926: 2017,09,01 - 2020,04,07\n",
            "\n",
            "16258: 2018,02,05 - 2018,03,04     2018,03,06 - 2018,03,06     2018,03,11 - 2018,03,13     2019,05,21 - 2019,05,21     \n",
            "16398: 2017,09,01 - 2017,09,19     2018,03,05 - 2018,08,08     2019,03,28 - 2019,04,01     2019,04,15 - 2019,08,27     2020,08,13 - 2020,09,08\n",
            "\n",
            "16664: 2017,09,21 - 2017,09,21     2018,03,13 - 2018,03,13     2018,04,12 - 2020,07,29\n",
            "\n",
            "16689: 2017,09,05 - 2019,02,28\n",
            "\n",
            "16853: 2017,09,05 - 2018,04,05     2018,11,30 - 2020,08,21\n",
            "\n",
            "16860: 2017,09,21 - 2017,09,21     2018,03,06 - 2018,03,06     2018,03,12 - 2018,03,13     2018,04,13 - 2020,06,30\n",
            "\n",
            "17069: 2017,09,21 - 2017,09,21     2017,10,16 - 2017,12,14     2018,03,06 - 2018,03,06     2018,03,11 - 2018,03,13     2018,07,04 - 2018,12,16     2019,03,28 - 2019,03,28     2019,05,21 - 2019,05,21     2019,06,28 - 2019,11,08     \n",
            "17712: 2017,09,21 - 2017,09,21     2017,10,28 - 2017,10,28     2018,03,06 - 2018,03,06     2018,03,11 - 2018,03,11     2019,05,21 - 2019,05,21     \n",
            "18377: 2017,09,21 - 2017,09,21     2017,09,24 - 2017,09,24     2018,03,06 - 2018,03,12     2018,09,13 - 2018,09,13     2019,05,21 - 2019,05,21     2019,09,30 - 2019,10,23     2020,05,08 - 2020,09,07\n",
            "\n",
            "18596: 2018,02,14 - 2018,03,04     2018,03,06 - 2018,03,06     2018,03,12 - 2018,03,13     2018,07,22 - 2018,07,22     2019,05,21 - 2019,05,21     \n",
            "18613: 2017,09,01 - 2019,12,19\n",
            "\n",
            "18676: 2018,03,06 - 2018,03,06     2018,03,11 - 2018,03,13     2018,09,13 - 2018,09,13     2018,11,02 - 2020,08,12\n",
            "\n",
            "18736: 2018,03,13 - 2018,03,13     2019,05,21 - 2019,05,21     \n",
            "19261: 2018,03,06 - 2018,03,13     2018,09,13 - 2018,09,13     2019,03,28 - 2019,03,28     2019,05,07 - 2020,07,31\n",
            "\n",
            "19326: 2018,03,06 - 2018,03,06     2018,09,13 - 2018,09,13     2019,08,09 - 2020,07,31\n",
            "\n",
            "19548: 2017,09,05 - 2017,09,05     2017,09,21 - 2017,09,21     2017,09,24 - 2017,09,24     2018,03,10 - 2018,03,13     2018,05,15 - 2019,07,11\n",
            "\n",
            "19814: 2018,03,06 - 2018,03,06     2018,03,08 - 2018,03,13     2018,03,23 - 2018,09,04     2018,09,13 - 2018,09,13     2019,03,28 - 2019,03,28     2019,05,21 - 2019,05,21     2020,04,15 - 2020,09,08\n",
            "\n",
            "20537: 2017,10,31 - 2017,10,31     2018,03,07 - 2020,08,31\n",
            "\n",
            "20764: 2018,02,17 - 2018,03,04     2018,03,06 - 2018,03,06     2018,03,11 - 2018,03,13     2018,07,15 - 2018,07,15     2018,09,13 - 2018,09,13     2019,07,31 - 2020,09,04\n",
            "\n",
            "20889: 2018,07,22 - 2018,07,22     2018,09,13 - 2018,09,13     2019,03,28 - 2019,03,28     2019,05,21 - 2019,05,21     2020,03,12 - 2020,09,01\n",
            "\n",
            "20908: 2019,03,28 - 2019,03,28     2019,05,21 - 2019,05,21     2020,02,07 - 2020,08,20\n",
            "\n",
            "20970: 2017,12,25 - 2020,07,31\n",
            "\n",
            "21683: 2018,07,15 - 2018,07,15     2018,07,22 - 2018,07,22     2018,09,13 - 2018,09,13     2018,10,12 - 2019,01,28     2019,03,28 - 2019,03,28     2019,05,07 - 2019,09,12     2020,07,30 - 2020,09,08\n",
            "\n",
            "22148: 2018,01,17 - 2020,07,02\n",
            "\n",
            "23268: 2018,07,15 - 2018,07,15     2019,05,21 - 2019,05,21     2019,06,04 - 2020,09,07\n",
            "\n",
            "23657: 2018,05,13 - 2018,05,13     2018,09,13 - 2018,09,13     2019,05,21 - 2019,05,21     2019,06,05 - 2020,09,03\n",
            "\n",
            "24278: 2018,07,22 - 2018,07,22     2018,09,13 - 2018,09,13     2019,03,28 - 2019,03,28     2019,05,21 - 2019,05,21     \n",
            "24351: 2018,07,15 - 2018,07,15     2018,07,22 - 2018,07,22     2018,09,13 - 2018,09,13     2018,11,15 - 2020,08,26\n",
            "\n",
            "24582: 2019,03,28 - 2019,03,28     2019,05,21 - 2019,05,21     2019,10,17 - 2020,09,07\n",
            "\n",
            "24979: 2018,07,13 - 2020,08,26\n",
            "\n",
            "25000: 2018,07,23 - 2020,08,30\n",
            "\n",
            "25695: 2018,09,13 - 2018,09,13     2019,03,28 - 2019,03,28     2019,05,21 - 2019,05,21     2020,02,27 - 2020,09,07\n",
            "\n",
            "26336: 2018,12,04 - 2020,09,04\n",
            "\n",
            "26490: 2018,10,02 - 2018,11,20     2018,12,14 - 2020,08,31\n",
            "\n",
            "26763: 2018,10,09 - 2018,10,10     2018,11,14 - 2020,07,08     \n",
            "26927: 2019,03,05 - 2019,03,06     2019,03,28 - 2019,03,28     2019,07,04 - 2020,09,01\n",
            "\n",
            "27759: 2019,06,10 - 2019,06,10     \n",
            "27912: 2019,05,21 - 2019,05,21     2019,10,31 - 2019,12,23     2020,08,06 - 2020,09,08\n",
            "\n",
            "28058: 2020,05,19 - 2020,09,04\n",
            "\n",
            "28261: 2019,03,28 - 2019,03,28     2019,04,16 - 2020,08,31\n",
            "\n",
            "28895: \n",
            "29476: 2019,05,22 - 2020,07,10\n",
            "\n",
            "29621: 2019,06,25 - 2019,08,22     \n",
            "29970: 2019,08,10 - 2019,08,10     2019,11,10 - 2020,09,02\n",
            "\n",
            "30022: 2020,08,26 - 2020,08,27\n",
            "\n",
            "30057: \n",
            "30104: \n",
            "30193: 2019,08,10 - 2019,08,10     2020,03,03 - 2020,08,27\n",
            "\n"
          ],
          "name": "stdout"
        }
      ]
    },
    {
      "cell_type": "code",
      "metadata": {
        "id": "6MHrthxjQsJF",
        "colab_type": "code",
        "colab": {}
      },
      "source": [
        ""
      ],
      "execution_count": 74,
      "outputs": []
    },
    {
      "cell_type": "code",
      "metadata": {
        "id": "ivI45yqaQsEo",
        "colab_type": "code",
        "colab": {}
      },
      "source": [
        ""
      ],
      "execution_count": null,
      "outputs": []
    },
    {
      "cell_type": "code",
      "metadata": {
        "id": "S3pp8z8hNNb2",
        "colab_type": "code",
        "colab": {}
      },
      "source": [
        ""
      ],
      "execution_count": null,
      "outputs": []
    },
    {
      "cell_type": "code",
      "metadata": {
        "id": "QK8wBxaiS1Ho",
        "colab_type": "code",
        "colab": {}
      },
      "source": [
        ""
      ],
      "execution_count": null,
      "outputs": []
    },
    {
      "cell_type": "code",
      "metadata": {
        "id": "4MFRRRY8S1EX",
        "colab_type": "code",
        "colab": {}
      },
      "source": [
        ""
      ],
      "execution_count": null,
      "outputs": []
    },
    {
      "cell_type": "code",
      "metadata": {
        "id": "etYujMqM_QNH",
        "colab_type": "code",
        "colab": {}
      },
      "source": [
        ""
      ],
      "execution_count": null,
      "outputs": []
    },
    {
      "cell_type": "code",
      "metadata": {
        "id": "bu_y95Vh_QGy",
        "colab_type": "code",
        "colab": {}
      },
      "source": [
        ""
      ],
      "execution_count": null,
      "outputs": []
    },
    {
      "cell_type": "code",
      "metadata": {
        "id": "w5woVAX__PQK",
        "colab_type": "code",
        "colab": {}
      },
      "source": [
        ""
      ],
      "execution_count": null,
      "outputs": []
    },
    {
      "cell_type": "code",
      "metadata": {
        "id": "4Pm-FleT_PS_",
        "colab_type": "code",
        "colab": {}
      },
      "source": [
        ""
      ],
      "execution_count": null,
      "outputs": []
    },
    {
      "cell_type": "code",
      "metadata": {
        "id": "I0qzYab2_PNR",
        "colab_type": "code",
        "colab": {}
      },
      "source": [
        ""
      ],
      "execution_count": null,
      "outputs": []
    },
    {
      "cell_type": "code",
      "metadata": {
        "id": "iSGfAmdE_Ou7",
        "colab_type": "code",
        "colab": {}
      },
      "source": [
        ""
      ],
      "execution_count": null,
      "outputs": []
    },
    {
      "cell_type": "code",
      "metadata": {
        "id": "XFbS8fwFnVv5",
        "colab_type": "code",
        "colab": {}
      },
      "source": [
        ""
      ],
      "execution_count": null,
      "outputs": []
    }
  ]
}